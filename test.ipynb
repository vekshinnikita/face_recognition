{
 "cells": [
  {
   "cell_type": "code",
   "execution_count": 5,
   "id": "3d944a77",
   "metadata": {},
   "outputs": [
    {
     "name": "stdout",
     "output_type": "stream",
     "text": [
      "2\n"
     ]
    }
   ],
   "source": [
    "import numpy as np\n",
    "\n",
    "l = [[1,2,3,4], [1,2,3,4]]\n",
    "\n",
    "all_embeddings = np.array(l).astype('float32')  # Faiss требует float32\n",
    "\n",
    "# 2. Создание Faiss Index:\n",
    "dimension = all_embeddings.shape[0] \n",
    "\n",
    "print(dimension)"
   ]
  }
 ],
 "metadata": {
  "kernelspec": {
   "display_name": "venv",
   "language": "python",
   "name": "python3"
  },
  "language_info": {
   "codemirror_mode": {
    "name": "ipython",
    "version": 3
   },
   "file_extension": ".py",
   "mimetype": "text/x-python",
   "name": "python",
   "nbconvert_exporter": "python",
   "pygments_lexer": "ipython3",
   "version": "3.12.2"
  }
 },
 "nbformat": 4,
 "nbformat_minor": 5
}
