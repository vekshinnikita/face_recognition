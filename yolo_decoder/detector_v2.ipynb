{
 "cells": [
  {
   "cell_type": "code",
   "execution_count": null,
   "id": "60c88d19",
   "metadata": {},
   "outputs": [],
   "source": [
    "try:\n",
    "    from google.colab import drive\n",
    "    RUNNING_IN_COLAB = True\n",
    "    \n",
    "except ImportError:\n",
    "    drive = None\n",
    "    RUNNING_IN_COLAB = False"
   ]
  },
  {
   "cell_type": "code",
   "execution_count": null,
   "id": "5ca23211",
   "metadata": {},
   "outputs": [],
   "source": [
    "\n",
    "if RUNNING_IN_COLAB:\n",
    "    import kagglehub\n",
    "\n",
    "    dataset_name = 'fareselmenshawii/face-detection-dataset'\n",
    "\n",
    "    # Скачиваем набор данных\n",
    "    try:\n",
    "        path = kagglehub.dataset_download(dataset_name)\n",
    "        print(f\"Dataset '{dataset_name}' downloaded to '{path}'\")\n",
    "    except Exception as e:\n",
    "        print(f\"Error downloading dataset: {e}\")"
   ]
  },
  {
   "cell_type": "code",
   "execution_count": 5,
   "id": "87665981",
   "metadata": {},
   "outputs": [
    {
     "name": "stdout",
     "output_type": "stream",
     "text": [
      "GPU is not available, using CPU instead\n",
      "Using device: cpu\n"
     ]
    }
   ],
   "source": [
    "import torch\n",
    "\n",
    "if torch.cuda.is_available():\n",
    "    device = torch.device(\"cuda\")\n",
    "    print(\"GPU is available\")\n",
    "    print(\"Device name:\", torch.cuda.get_device_name(0))\n",
    "else:\n",
    "    device = torch.device(\"cpu\")\n",
    "    print(\"GPU is not available, using CPU instead\")\n",
    "\n",
    "print(f\"Using device: {device}\")"
   ]
  },
  {
   "cell_type": "code",
   "execution_count": null,
   "id": "311b45fc",
   "metadata": {},
   "outputs": [],
   "source": [
    "import cv2\n",
    "from PIL import Image\n",
    "from ultralytics import YOLO\n",
    "\n",
    "# Model\n",
    "model = YOLO(\"yolov5n.yaml\").load(\"yolov5nu.pt\")"
   ]
  },
  {
   "cell_type": "code",
   "execution_count": null,
   "id": "0bb4f75b",
   "metadata": {},
   "outputs": [],
   "source": [
    "results = model.train(data=\"yolo.yaml\", epochs=10, device=device)"
   ]
  },
  {
   "cell_type": "code",
   "execution_count": null,
   "id": "a7c34759",
   "metadata": {},
   "outputs": [],
   "source": [
    "results = model.val()"
   ]
  }
 ],
 "metadata": {
  "kernelspec": {
   "display_name": "venv_yolo",
   "language": "python",
   "name": "python3"
  },
  "language_info": {
   "codemirror_mode": {
    "name": "ipython",
    "version": 3
   },
   "file_extension": ".py",
   "mimetype": "text/x-python",
   "name": "python",
   "nbconvert_exporter": "python",
   "pygments_lexer": "ipython3",
   "version": "3.12.2"
  }
 },
 "nbformat": 4,
 "nbformat_minor": 5
}
